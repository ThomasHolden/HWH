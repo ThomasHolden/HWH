{
 "cells": [
  {
   "cell_type": "code",
   "execution_count": 3,
   "metadata": {},
   "outputs": [],
   "source": [
    "import pandas as pd\n",
    "import sqlite3\n",
    "import requests\n",
    "from bs4 import BeautifulSoup\n",
    "from selenium import webdriver\n",
    "from tinydb import TinyDB, Query"
   ]
  },
  {
   "cell_type": "code",
   "execution_count": 97,
   "metadata": {},
   "outputs": [],
   "source": [
    "\n",
    "db = TinyDB('/home/thomas/Python Projects/hwh/watches/db.json')\n",
    "\n",
    "User = Query()"
   ]
  },
  {
   "cell_type": "code",
   "execution_count": 4,
   "metadata": {},
   "outputs": [],
   "source": [
    "url = \"http://www.chrono24.com/alangesoehne/datograph-perp-cal-chrono-pt-new--id5645635.htm\"\n",
    "url = \"https://www.chrono24.com//sinn/ezm-1-with-3-h-dial--id9313636.htm\""
   ]
  },
  {
   "cell_type": "code",
   "execution_count": 5,
   "metadata": {},
   "outputs": [],
   "source": [
    "driver = webdriver.Firefox()\n",
    "driver.get(url)\n",
    "\n",
    "source = driver.page_source\n",
    "driver.close()"
   ]
  },
  {
   "cell_type": "code",
   "execution_count": 56,
   "metadata": {},
   "outputs": [],
   "source": [
    "brandurl = \"https://www.chrono24.com/rolex/index.htm?man=rolex&pageSize=120&showpage=1\"\n",
    "driver = webdriver.Firefox()\n",
    "driver.get(url)\n",
    "\n",
    "brandsource = driver.page_source\n",
    "driver.close()\n",
    "\n"
   ]
  },
  {
   "cell_type": "code",
   "execution_count": 6,
   "metadata": {},
   "outputs": [],
   "source": [
    "def getbrandlinks(brand, soupbrandsource):\n",
    "    divs = soupbrandsource.find_all('a')\n",
    "    hrefs = [j.get('href') for j in divs if j is not None and brand.lower() in str(j) and 'index.htm' not in str(j) and '--id' in str(j)]\n",
    "    return hrefs"
   ]
  },
  {
   "cell_type": "code",
   "execution_count": 7,
   "metadata": {},
   "outputs": [],
   "source": [
    "def getsourcefromurl(url,driver,closewebdriver=False):\n",
    "    #driver = webdriver.Firefox()\n",
    "    driver.get(url)\n",
    "\n",
    "    source = driver.page_source\n",
    "    if closewebdriver:\n",
    "        driver.close()\n",
    "        \n",
    "    return BeautifulSoup(source, 'lxml')\n"
   ]
  },
  {
   "cell_type": "code",
   "execution_count": 18,
   "metadata": {},
   "outputs": [],
   "source": [
    "def parsedata(soupsource):\n",
    "\n",
    "    elem = soupsource.find('section',{'class':'specifications p-y-5'}).table\n",
    "\n",
    "    rows = elem.find_all('tr')\n",
    "\n",
    "    title = ''\n",
    "\n",
    "    n = 0\n",
    "    \n",
    "    result = {}\n",
    "\n",
    "    pricebox = soupsource.find('span',{'class':'d-block'}).span\n",
    "    if pricebox.text.lower() != 'price on request':\n",
    "        print(pricebox.text)\n",
    "        currency = pricebox.span.text\n",
    "        price = pricebox.text.replace('{currency}'.format(currency=currency),'').replace(',','')\n",
    "        result['Price'] = price\n",
    "        result['PriceCurrency'] = currency\n",
    "    \n",
    "    for nnr, row in enumerate(rows):\n",
    "        if len(row.find_all('td')) == 1:\n",
    "            title = row.td.text.strip()\n",
    "            n = -1\n",
    "        else:\n",
    "            tmp = row.find_all('td')\n",
    "            subtitle = tmp[0].text.strip()\n",
    "            if subtitle == 'Condition':\n",
    "                value = tmp[1].a.text.strip()\n",
    "            else:\n",
    "                value = tmp[1].text.strip()\n",
    "        n += 1   \n",
    "        if n > 0:\n",
    "            result[subtitle] = value\n",
    "    \n",
    "    return result\n",
    "\n",
    "    "
   ]
  },
  {
   "cell_type": "code",
   "execution_count": 19,
   "metadata": {},
   "outputs": [
    {
     "name": "stderr",
     "output_type": "stream",
     "text": [
      "/home/thomas/anaconda3/lib/python3.5/site-packages/bs4/__init__.py:181: UserWarning: No parser was explicitly specified, so I'm using the best available HTML parser for this system (\"lxml\"). This usually isn't a problem, but if you run this code on another system, or in a different virtual environment, it may use a different parser and behave differently.\n",
      "\n",
      "The code that caused this warning is on line 184 of the file /home/thomas/anaconda3/lib/python3.5/runpy.py. To get rid of this warning, change code that looks like this:\n",
      "\n",
      " BeautifulSoup([your markup])\n",
      "\n",
      "to this:\n",
      "\n",
      " BeautifulSoup([your markup], \"lxml\")\n",
      "\n",
      "  markup_type=markup_type))\n"
     ]
    },
    {
     "data": {
      "text/plain": [
       "{'Bracelet material': 'Leather',\n",
       " 'Brand': 'Sinn',\n",
       " 'Case material': 'Titanium',\n",
       " 'Condition': 'Good',\n",
       " 'Gender': \"Men's watch/Unisex\",\n",
       " 'Listing number': '5jmg49',\n",
       " 'Location': 'United Kingdom, London',\n",
       " 'Movement': 'Automatic',\n",
       " 'Reference number': '503EZM1',\n",
       " 'Scope of delivery': 'Original box, no original papers',\n",
       " 'Year': '1998'}"
      ]
     },
     "execution_count": 19,
     "metadata": {},
     "output_type": "execute_result"
    }
   ],
   "source": [
    "parsedata(BeautifulSoup(source))"
   ]
  },
  {
   "cell_type": "code",
   "execution_count": null,
   "metadata": {},
   "outputs": [
    {
     "name": "stdout",
     "output_type": "stream",
     "text": [
      "https://www.chrono24.com/rolex/index.htm?man=rolex&pageSize=120&showpage=1\n",
      "/rolex/datejust-41mm-steel--18k-rose-gold-chocolate-dial-126331--id5473058.htm\n",
      "/rolex/sky-dweller-42mm-stainless-steel--18k-yellow-gold-326933--id7572898.htm\n",
      "/rolex/daytona-steel--18k-yellow-gold-white-dial-watch-116503--id3346912.htm\n",
      "/rolex/day-date-36mm-18k-yellow-gold-president-diamond-dial--118238--id3346770.htm\n",
      "/rolex/datejust-ii-41mm-18k-white-gold-bezel-blue-roman-dial-116334--id7595264.htm\n",
      "/rolex/datejust-41mm-steel--18k-yellow-gold-jubilee-bracelet-12633--id5472953.htm\n",
      "/rolex/datejust-41-steel-18k-rose-gold-sundust-diamond-dial-126331--id5472994.htm\n",
      "/rolex/sky-dweller-42mm-18k-yellow-gold--black-dial-watch-326938--id8634456.htm\n",
      "/rolex/sea-dweller-deepsea-d-blue-steel-44mm---126660--id8439624.htm\n",
      "/rolex/datejust--id9091167.htm\n",
      "/rolex/sky-dweller-326933--id9355165.htm\n",
      "/rolex/gmt-master-ii--id9343048.htm\n",
      "/rolex/day-date-40mm-18k-yellow-gold-president-diamond-dial--228238--id4714036.htm\n",
      "/rolex/sea-dweller-deepsea--id8392550.htm\n",
      "/rolex/vintage-rare-1957-rolex-day-date-36mm-6511-18k-yellow-gold-black-watch-president--id9379557.htm\n",
      "/rolex/submariner-16610-f-serial--id9379932.htm\n",
      "/rolex/116710blnr-gmt-master-ii-ceramic-black--blue-batman-ss-29634--id9298748.htm\n",
      "/rolex/day-date--id7845407.htm\n",
      "/rolex/datejust-tiffany--co--silver-dial---rare--id9237531.htm\n",
      "/rolex/datejust-41-blue-index--id9123139.htm\n",
      "/rolex/submariner-date-kermit--id9110029.htm\n",
      "/rolex/explorer-ii--id8822077.htm\n",
      "/rolex/presidential-day-date-red-vignette-dial-diamond-watch-18038--id6048399.htm\n",
      "/rolex/may-2018-rolex-daytona-cosmograph-116500-ln-black-chronograph-stainless-watch--id9379481.htm\n",
      "/rolex/daytona-stainless-steel-116520--id9379931.htm\n",
      "/rolex/116655-yacht-master-18k-rose-gold--rubber-29647--id9353967.htm\n",
      "/rolex/datejust--id7845248.htm\n",
      "/rolex/oyster-precision-speedking-4220--id9237614.htm\n",
      "/rolex/yacht-master-116655--id9175949.htm\n",
      "/rolex/datejust-ii--id9342982.htm\n",
      "/rolex/datejust-ii--id8822020.htm\n",
      "/rolex/date---under-factory-warranty--original-papers--id5378203.htm\n",
      "/rolex/2017-rolex-yacht-master-rhodium-116622-stainless-platinum-blue-40mm-swiss-watch--id9379508.htm\n",
      "/rolex/president-day-date-118238--id9081373.htm\n",
      "/rolex/5513-vintage-submariner-5513-meters-first-kissing-40-bezel-28032--id9028937.htm\n",
      "/rolex/datejust-36mm-dark-grey-diamond-dialbezellugs-16014--id6078629.htm\n",
      "/rolex/datejust-model-1601-14kss--id9329643.htm\n",
      "/rolex/datejust-126334-slate-roman--id8683940.htm\n",
      "/rolex/day-date--id9340096.htm\n",
      "/rolex/yacht-master-steel--platinum--id8821869.htm\n",
      "/rolex/oyster-perpetual-date--id9389282.htm\n",
      "/rolex/datejust-36mm-silver-gray-roman-16234-stainless-gold-jubilee-fluted-watch--id9379594.htm\n",
      "/rolex/pearlmaster-white-mother-of-pearl-r802988ub7294--id9389130.htm\n",
      "/rolex/116610lv-submariner-green-ceramic-bezel-green-dial-hulk-ss-29383--id9239555.htm\n",
      "/rolex/explorer-ii--id7928886.htm\n",
      "/rolex/14k-bubble-back-automatic-ref-3131--id9237583.htm\n",
      "/rolex/day-date-40-green-roman-dial-228235--id9123086.htm\n",
      "/rolex/datejust-ii--id9343003.htm\n",
      "/rolex/submariner-date---green-sub---hulk--id8822253.htm\n",
      "/rolex/datejust--id9389300.htm\n",
      "/rolex/ladies-rolex-datejust-burlwood-6917-26mm-18k-yellow-gold-oyster-watch--id9379592.htm\n"
     ]
    }
   ],
   "source": [
    "#### MAIN ####\n",
    "\n",
    "\n",
    "\n",
    "\n",
    "rooturl = 'https://www.chrono24.com'\n",
    "brand = 'rolex'\n",
    "brandurl = rooturl + \"/{brand}/index.htm?man={brand}&pageSize=120&showpage=1\".format(brand=brand)\n",
    "\n",
    "print(brandurl)\n",
    "\n",
    "driver = webdriver.Firefox()\n",
    "brandsource = getsourcefromurl(brandurl,driver,False)\n",
    "brandpages = getbrandlinks(brand,brandsource)\n",
    "\n",
    "results = []\n",
    "\n",
    "for page in brandpages[:100]:\n",
    "    if len(db.search(User.page==page)) == 0:\n",
    "        print(page)\n",
    "        full_url = rooturl + page\n",
    "        watchsource = getsourcefromurl(full_url,driver,False)\n",
    "        result = parsedata(watchsource)\n",
    "        result['page'] = page\n",
    "        db.insert(result)\n",
    "        #results.append(result)\n",
    "\n",
    "\n",
    "driver.close()\n"
   ]
  },
  {
   "cell_type": "code",
   "execution_count": 9,
   "metadata": {},
   "outputs": [
    {
     "name": "stderr",
     "output_type": "stream",
     "text": [
      "/home/thomas/anaconda3/lib/python3.5/site-packages/bs4/__init__.py:181: UserWarning: No parser was explicitly specified, so I'm using the best available HTML parser for this system (\"lxml\"). This usually isn't a problem, but if you run this code on another system, or in a different virtual environment, it may use a different parser and behave differently.\n",
      "\n",
      "The code that caused this warning is on line 184 of the file /home/thomas/anaconda3/lib/python3.5/runpy.py. To get rid of this warning, change code that looks like this:\n",
      "\n",
      " BeautifulSoup([your markup])\n",
      "\n",
      "to this:\n",
      "\n",
      " BeautifulSoup([your markup], \"lxml\")\n",
      "\n",
      "  markup_type=markup_type))\n"
     ]
    },
    {
     "ename": "AttributeError",
     "evalue": "'NoneType' object has no attribute 'text'",
     "output_type": "error",
     "traceback": [
      "\u001b[0;31m---------------------------------------------------------------------------\u001b[0m",
      "\u001b[0;31mAttributeError\u001b[0m                            Traceback (most recent call last)",
      "\u001b[0;32m<ipython-input-9-a3e0677d2e15>\u001b[0m in \u001b[0;36m<module>\u001b[0;34m()\u001b[0m\n\u001b[0;32m----> 1\u001b[0;31m \u001b[0mparsedata\u001b[0m\u001b[0;34m(\u001b[0m\u001b[0mBeautifulSoup\u001b[0m\u001b[0;34m(\u001b[0m\u001b[0msource\u001b[0m\u001b[0;34m)\u001b[0m\u001b[0;34m)\u001b[0m\u001b[0;34m\u001b[0m\u001b[0m\n\u001b[0m",
      "\u001b[0;32m<ipython-input-8-80919786aa34>\u001b[0m in \u001b[0;36mparsedata\u001b[0;34m(soupsource)\u001b[0m\n\u001b[1;32m     10\u001b[0m \u001b[0;34m\u001b[0m\u001b[0m\n\u001b[1;32m     11\u001b[0m     \u001b[0mpricebox\u001b[0m \u001b[0;34m=\u001b[0m \u001b[0msoupsource\u001b[0m\u001b[0;34m.\u001b[0m\u001b[0mfind\u001b[0m\u001b[0;34m(\u001b[0m\u001b[0;34m'span'\u001b[0m\u001b[0;34m,\u001b[0m\u001b[0;34m{\u001b[0m\u001b[0;34m'class'\u001b[0m\u001b[0;34m:\u001b[0m\u001b[0;34m'd-block'\u001b[0m\u001b[0;34m}\u001b[0m\u001b[0;34m)\u001b[0m\u001b[0;34m.\u001b[0m\u001b[0mspan\u001b[0m\u001b[0;34m\u001b[0m\u001b[0m\n\u001b[0;32m---> 12\u001b[0;31m     \u001b[0mcurrency\u001b[0m \u001b[0;34m=\u001b[0m \u001b[0mpricebox\u001b[0m\u001b[0;34m.\u001b[0m\u001b[0mspan\u001b[0m\u001b[0;34m.\u001b[0m\u001b[0mtext\u001b[0m\u001b[0;34m\u001b[0m\u001b[0m\n\u001b[0m\u001b[1;32m     13\u001b[0m     \u001b[0mprice\u001b[0m \u001b[0;34m=\u001b[0m \u001b[0mpricebox\u001b[0m\u001b[0;34m.\u001b[0m\u001b[0mtext\u001b[0m\u001b[0;34m.\u001b[0m\u001b[0mreplace\u001b[0m\u001b[0;34m(\u001b[0m\u001b[0;34m'{currency}'\u001b[0m\u001b[0;34m.\u001b[0m\u001b[0mformat\u001b[0m\u001b[0;34m(\u001b[0m\u001b[0mcurrency\u001b[0m\u001b[0;34m=\u001b[0m\u001b[0mcurrency\u001b[0m\u001b[0;34m)\u001b[0m\u001b[0;34m,\u001b[0m\u001b[0;34m''\u001b[0m\u001b[0;34m)\u001b[0m\u001b[0;34m.\u001b[0m\u001b[0mreplace\u001b[0m\u001b[0;34m(\u001b[0m\u001b[0;34m','\u001b[0m\u001b[0;34m,\u001b[0m\u001b[0;34m''\u001b[0m\u001b[0;34m)\u001b[0m\u001b[0;34m\u001b[0m\u001b[0m\n\u001b[1;32m     14\u001b[0m \u001b[0;34m\u001b[0m\u001b[0m\n",
      "\u001b[0;31mAttributeError\u001b[0m: 'NoneType' object has no attribute 'text'"
     ]
    }
   ],
   "source": []
  },
  {
   "cell_type": "code",
   "execution_count": null,
   "metadata": {},
   "outputs": [],
   "source": []
  },
  {
   "cell_type": "code",
   "execution_count": 106,
   "metadata": {},
   "outputs": [
    {
     "data": {
      "text/html": [
       "<div>\n",
       "<table border=\"1\" class=\"dataframe\">\n",
       "  <thead>\n",
       "    <tr style=\"text-align: right;\">\n",
       "      <th></th>\n",
       "      <th>Bezel material</th>\n",
       "      <th>Bracelet color</th>\n",
       "      <th>Bracelet material</th>\n",
       "      <th>Brand</th>\n",
       "      <th>Case diameter</th>\n",
       "      <th>Case material</th>\n",
       "      <th>Clasp</th>\n",
       "      <th>Clasp material</th>\n",
       "      <th>Code</th>\n",
       "      <th>Condition</th>\n",
       "      <th>...</th>\n",
       "      <th>Listing number</th>\n",
       "      <th>Location</th>\n",
       "      <th>Model</th>\n",
       "      <th>Movement</th>\n",
       "      <th>Price</th>\n",
       "      <th>PriceCurrency</th>\n",
       "      <th>Reference number</th>\n",
       "      <th>Scope of delivery</th>\n",
       "      <th>Water resistance</th>\n",
       "      <th>page</th>\n",
       "    </tr>\n",
       "  </thead>\n",
       "  <tbody>\n",
       "    <tr>\n",
       "      <th>0</th>\n",
       "      <td>Yellow gold</td>\n",
       "      <td>Gold</td>\n",
       "      <td>Yellow gold</td>\n",
       "      <td>Rolex</td>\n",
       "      <td>40 mm</td>\n",
       "      <td>Yellow gold</td>\n",
       "      <td>Fold clasp</td>\n",
       "      <td>Yellow gold</td>\n",
       "      <td>WTCH05928</td>\n",
       "      <td>Very good</td>\n",
       "      <td>...</td>\n",
       "      <td>4i5xb5</td>\n",
       "      <td>United States of America, New York, New York</td>\n",
       "      <td>GMT-Master II</td>\n",
       "      <td>Automatic</td>\n",
       "      <td>99999</td>\n",
       "      <td>$</td>\n",
       "      <td>116758SANR</td>\n",
       "      <td>Original box, original papers</td>\n",
       "      <td>10 ATM</td>\n",
       "      <td>/rolex/gmt-master-ii-18k-yellow-gold-with-fact...</td>\n",
       "    </tr>\n",
       "    <tr>\n",
       "      <th>1</th>\n",
       "      <td>Ceramic</td>\n",
       "      <td>Gold/Steel</td>\n",
       "      <td>Gold/Steel</td>\n",
       "      <td>Rolex</td>\n",
       "      <td>40 mm</td>\n",
       "      <td>Gold/Steel</td>\n",
       "      <td>Fold clasp</td>\n",
       "      <td>Gold/Steel</td>\n",
       "      <td>WTCH0000</td>\n",
       "      <td>Unworn</td>\n",
       "      <td>...</td>\n",
       "      <td>50dvy5</td>\n",
       "      <td>United States of America, New York, New York</td>\n",
       "      <td>Submariner Date</td>\n",
       "      <td>Automatic</td>\n",
       "      <td>13499</td>\n",
       "      <td>$</td>\n",
       "      <td>116613</td>\n",
       "      <td>Original box, original papers</td>\n",
       "      <td>30 ATM</td>\n",
       "      <td>/rolex/submariner-steel--18k-yellow-gold-blue-...</td>\n",
       "    </tr>\n",
       "  </tbody>\n",
       "</table>\n",
       "<p>2 rows × 24 columns</p>\n",
       "</div>"
      ],
      "text/plain": [
       "  Bezel material Bracelet color Bracelet material  Brand Case diameter  \\\n",
       "0    Yellow gold           Gold       Yellow gold  Rolex         40 mm   \n",
       "1        Ceramic     Gold/Steel        Gold/Steel  Rolex         40 mm   \n",
       "\n",
       "  Case material       Clasp Clasp material       Code  Condition  \\\n",
       "0   Yellow gold  Fold clasp    Yellow gold  WTCH05928  Very good   \n",
       "1    Gold/Steel  Fold clasp     Gold/Steel   WTCH0000     Unworn   \n",
       "\n",
       "                         ...                         Listing number  \\\n",
       "0                        ...                                 4i5xb5   \n",
       "1                        ...                                 50dvy5   \n",
       "\n",
       "                                       Location            Model   Movement  \\\n",
       "0  United States of America, New York, New York    GMT-Master II  Automatic   \n",
       "1  United States of America, New York, New York  Submariner Date  Automatic   \n",
       "\n",
       "   Price PriceCurrency Reference number              Scope of delivery  \\\n",
       "0  99999             $       116758SANR  Original box, original papers   \n",
       "1  13499             $           116613  Original box, original papers   \n",
       "\n",
       "  Water resistance                                               page  \n",
       "0           10 ATM  /rolex/gmt-master-ii-18k-yellow-gold-with-fact...  \n",
       "1           30 ATM  /rolex/submariner-steel--18k-yellow-gold-blue-...  \n",
       "\n",
       "[2 rows x 24 columns]"
      ]
     },
     "execution_count": 106,
     "metadata": {},
     "output_type": "execute_result"
    }
   ],
   "source": [
    "#db.search(User.page == '/rolex/gmt-master-ii-18k-yellow-gold-with-factory-diamonds-116758sa--id7565951.htm')\n",
    "\n",
    "\n",
    "out = db.search(User.Brand == 'Rolex')\n",
    "pd.DataFrame(out)\n"
   ]
  }
 ],
 "metadata": {
  "anaconda-cloud": {},
  "kernelspec": {
   "display_name": "Python [conda root]",
   "language": "python",
   "name": "conda-root-py"
  },
  "language_info": {
   "codemirror_mode": {
    "name": "ipython",
    "version": 3
   },
   "file_extension": ".py",
   "mimetype": "text/x-python",
   "name": "python",
   "nbconvert_exporter": "python",
   "pygments_lexer": "ipython3",
   "version": "3.5.2"
  }
 },
 "nbformat": 4,
 "nbformat_minor": 2
}
